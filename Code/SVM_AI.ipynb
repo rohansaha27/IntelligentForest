{
 "cells": [
  {
   "cell_type": "code",
   "execution_count": 1,
   "metadata": {
    "colab": {
     "base_uri": "https://localhost:8080/",
     "height": 397
    },
    "executionInfo": {
     "elapsed": 5845,
     "status": "error",
     "timestamp": 1668438907190,
     "user": {
      "displayName": "Soumik Piratla",
      "userId": "05414017972696465459"
     },
     "user_tz": -330
    },
    "id": "5Eukdlz8t83a",
    "outputId": "968588b0-65c5-4776-9dfb-f644bb9de706"
   },
   "outputs": [
    {
     "ename": "ModuleNotFoundError",
     "evalue": "No module named 'pandas'",
     "output_type": "error",
     "traceback": [
      "\u001b[31m---------------------------------------------------------------------------\u001b[39m",
      "\u001b[31mModuleNotFoundError\u001b[39m                       Traceback (most recent call last)",
      "\u001b[36mCell\u001b[39m\u001b[36m \u001b[39m\u001b[32mIn[1]\u001b[39m\u001b[32m, line 1\u001b[39m\n\u001b[32m----> \u001b[39m\u001b[32m1\u001b[39m \u001b[38;5;28;01mimport\u001b[39;00m\u001b[38;5;250m \u001b[39m\u001b[34;01mpandas\u001b[39;00m\n\u001b[32m      2\u001b[39m \u001b[38;5;28;01mimport\u001b[39;00m\u001b[38;5;250m \u001b[39m\u001b[34;01mio\u001b[39;00m\n\u001b[32m      3\u001b[39m \u001b[38;5;28;01mfrom\u001b[39;00m\u001b[38;5;250m \u001b[39m\u001b[34;01msklearn\u001b[39;00m\u001b[38;5;250m \u001b[39m\u001b[38;5;28;01mimport\u001b[39;00m tree\n",
      "\u001b[31mModuleNotFoundError\u001b[39m: No module named 'pandas'"
     ]
    }
   ],
   "source": [
    "import pandas\n",
    "import io\n",
    "from sklearn import tree\n",
    "from sklearn import svm\n",
    "import warnings\n",
    "from sklearn import metrics\n",
    "from sklearn.metrics import confusion_matrix \n",
    "\n",
    "warnings.filterwarnings(action='ignore', category=UserWarning)\n",
    "\n",
    "from google.colab import drive\n",
    "drive.mount('/content/gdrive')\n",
    "\n",
    "\n",
    "df = pandas.read_csv(\"gdrive/MyDrive/Data /BrisbaneWeatherTrainingData.csv\")\n",
    "d = {'-1': 0, 'l': 1, 'm': 2, 'h': 3}\n",
    "df['AlertLevel'] = df['AlertLevel'].map(d)\n",
    "features = ['MinTemp', 'MaxTemp', 'Rainfall', 'Evaporation', 'Sunshine']\n",
    "\n",
    "\n",
    "X = df[features]\n",
    "y = df['AlertLevel']\n",
    "\n",
    "\n",
    "regr = svm.SVR()\n",
    "regr = regr.fit(X, y)\n",
    "\n",
    "df1 = pandas.read_csv(\"gdrive/MyDrive/Data /BrisbaneWeatherTestData.csv\", usecols=['Date','AlertLevel','MinTemp', 'MaxTemp', 'Rainfall', 'Evaporation', 'Sunshine'])\n",
    "df1['AlertLevel'] = df1['AlertLevel'].map(d)\n",
    "\n",
    "\n",
    "true_y = []\n",
    "pred_y = []\n",
    "\n",
    "for num in range(0,100):\n",
    "   true_y.append(df1.iloc[num,1])\n",
    "   pred_y.append(regr.predict([[df1.iloc[num,2],df1.iloc[num,3],df1.iloc[num,4],df1.iloc[num,5],df1.iloc[num,6]]])) \n",
    "\n",
    "\n",
    "Accuracy = metrics.accuracy_score(true_y, pred_y)\n",
    "print(\"Model Accuracy is: \", Accuracy)\n",
    "\n",
    "\n",
    "#confusion_matrix = metrics.confusion_matrix(true_np_array, pred_np_array, labels=None, sample_weight=None, normalize=None)\n",
    "confusion_matrix = metrics.confusion_matrix(true_y, pred_y, labels=None, sample_weight=None, normalize=None)\n",
    "\n",
    "print (\"Confusion Matrix is: \")\n",
    "print (confusion_matrix) \n"
   ]
  },
  {
   "cell_type": "code",
   "execution_count": null,
   "metadata": {
    "executionInfo": {
     "elapsed": 15,
     "status": "aborted",
     "timestamp": 1668438907192,
     "user": {
      "displayName": "Soumik Piratla",
      "userId": "05414017972696465459"
     },
     "user_tz": -330
    },
    "id": "k-G_lGKqs3bE"
   },
   "outputs": [],
   "source": []
  }
 ],
 "metadata": {
  "colab": {
   "collapsed_sections": [],
   "provenance": [
    {
     "file_id": "1JtQu8PE8x_CUrCp_NUU3OcQ6cB75QrPk",
     "timestamp": 1668355349959
    }
   ]
  },
  "kernelspec": {
   "display_name": "Python 3",
   "name": "python3"
  },
  "language_info": {
   "codemirror_mode": {
    "name": "ipython",
    "version": 3
   },
   "file_extension": ".py",
   "mimetype": "text/x-python",
   "name": "python",
   "nbconvert_exporter": "python",
   "pygments_lexer": "ipython3",
   "version": "3.13.0"
  }
 },
 "nbformat": 4,
 "nbformat_minor": 0
}
