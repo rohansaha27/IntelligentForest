{
 "cells": [
  {
   "cell_type": "code",
   "execution_count": null,
   "metadata": {
    "colab": {
     "base_uri": "https://localhost:8080/",
     "height": 397
    },
    "executionInfo": {
     "elapsed": 5845,
     "status": "error",
     "timestamp": 1668438907190,
     "user": {
      "displayName": "Soumik Piratla",
      "userId": "05414017972696465459"
     },
     "user_tz": -330
    },
    "id": "5Eukdlz8t83a",
    "outputId": "968588b0-65c5-4776-9dfb-f644bb9de706"
   },
   "outputs": [
    {
     "ename": "ModuleNotFoundError",
     "evalue": "No module named 'pandas'",
     "output_type": "error",
     "traceback": [
      "\u001b[31m---------------------------------------------------------------------------\u001b[39m",
      "\u001b[31mModuleNotFoundError\u001b[39m                       Traceback (most recent call last)",
      "\u001b[36mCell\u001b[39m\u001b[36m \u001b[39m\u001b[32mIn[1]\u001b[39m\u001b[32m, line 1\u001b[39m\n\u001b[32m----> \u001b[39m\u001b[32m1\u001b[39m \u001b[38;5;28;01mimport\u001b[39;00m\u001b[38;5;250m \u001b[39m\u001b[34;01mpandas\u001b[39;00m\n\u001b[32m      2\u001b[39m \u001b[38;5;28;01mimport\u001b[39;00m\u001b[38;5;250m \u001b[39m\u001b[34;01mio\u001b[39;00m\n\u001b[32m      3\u001b[39m \u001b[38;5;28;01mfrom\u001b[39;00m\u001b[38;5;250m \u001b[39m\u001b[34;01msklearn\u001b[39;00m\u001b[38;5;250m \u001b[39m\u001b[38;5;28;01mimport\u001b[39;00m tree\n",
      "\u001b[31mModuleNotFoundError\u001b[39m: No module named 'pandas'"
     ]
    }
   ],
   "source": [
    "# Import required libraries\n",
    "import pandas\n",
    "import io\n",
    "from sklearn import tree\n",
    "from sklearn import svm\n",
    "import warnings\n",
    "from sklearn import metrics\n",
    "from sklearn.metrics import confusion_matrix \n",
    "\n",
    "# Suppress warnings to keep output clean\n",
    "warnings.filterwarnings(action='ignore', category=UserWarning)\n",
    "\n",
    "# Mount Google Drive to access dataset\n",
    "from google.colab import drive\n",
    "drive.mount('/content/gdrive')\n",
    "\n",
    "# =============================\n",
    "# 1. Load and Prepare Training Data\n",
    "# =============================\n",
    "\n",
    "# Load training data from CSV\n",
    "df = pandas.read_csv(\"gdrive/MyDrive/Data /BrisbaneWeatherTrainingData.csv\")\n",
    "\n",
    "# Map categorical fire alert levels to integers\n",
    "# Original: '-1' = No Alert, 'l' = Low, 'm' = Medium, 'h' = High\n",
    "# Encoded as: 0 = No Alert, 1 = Low, 2 = Medium, 3 = High\n",
    "d = {'-1': 0, 'l': 1, 'm': 2, 'h': 3}\n",
    "df['AlertLevel'] = df['AlertLevel'].map(d)\n",
    "\n",
    "# Select feature columns (independent variables)\n",
    "features = ['MinTemp', 'MaxTemp', 'Rainfall', 'Evaporation', 'Sunshine']\n",
    "X = df[features]\n",
    "y = df['AlertLevel']  # Target label\n",
    "\n",
    "# =============================\n",
    "# 2. Train Support Vector Regression Model\n",
    "# =============================\n",
    "\n",
    "# Create an SVR (Support Vector Regression) model\n",
    "# ⚠️ NOTE: SVR is meant for predicting continuous values, not classification\n",
    "regr = svm.SVR()\n",
    "regr = regr.fit(X, y)\n",
    "\n",
    "# =============================\n",
    "# 3. Load and Prepare Test Data\n",
    "# =============================\n",
    "\n",
    "# Read the test data\n",
    "df1 = pandas.read_csv(\n",
    "    \"gdrive/MyDrive/Data /BrisbaneWeatherTestData.csv\", \n",
    "    usecols=['Date','AlertLevel','MinTemp', 'MaxTemp', 'Rainfall', 'Evaporation', 'Sunshine']\n",
    ")\n",
    "\n",
    "# Map alert levels to numeric format (same as training)\n",
    "df1['AlertLevel'] = df1['AlertLevel'].map(d)\n",
    "\n",
    "# =============================\n",
    "# 4. Make Predictions on Test Data\n",
    "# =============================\n",
    "\n",
    "true_y = []  # Ground truth labels\n",
    "pred_y = []  # Predicted values (continuous)\n",
    "\n",
    "# Predict for the first 100 rows of test data\n",
    "for num in range(100):\n",
    "    true_y.append(df1.iloc[num,1])  # actual value\n",
    "    pred_y.append(\n",
    "        regr.predict([[df1.iloc[num,2], df1.iloc[num,3], \n",
    "                       df1.iloc[num,4], df1.iloc[num,5], \n",
    "                       df1.iloc[num,6]]])[0]\n",
    "    )\n",
    "\n",
    "# =============================\n",
    "# ⚠️ Convert SVR output to classification\n",
    "# =============================\n",
    "\n",
    "# Since SVR predicts floating-point values, round them to nearest integer to treat as classification\n",
    "pred_y = [round(p) for p in pred_y]\n",
    "\n",
    "# =============================\n",
    "# 5. Evaluate Model Performance\n",
    "# =============================\n",
    "\n",
    "# Calculate accuracy of classification\n",
    "Accuracy = metrics.accuracy_score(true_y, pred_y)\n",
    "print(\"Model Accuracy is: \", Accuracy)\n",
    "\n",
    "# Print confusion matrix to visualize misclassifications\n",
    "confusion_matrix = metrics.confusion_matrix(true_y, pred_y)\n",
    "print(\"Confusion Matrix is: \")\n",
    "print(confusion_matrix)"
   ]
  },
  {
   "cell_type": "code",
   "execution_count": null,
   "metadata": {
    "executionInfo": {
     "elapsed": 15,
     "status": "aborted",
     "timestamp": 1668438907192,
     "user": {
      "displayName": "Soumik Piratla",
      "userId": "05414017972696465459"
     },
     "user_tz": -330
    },
    "id": "k-G_lGKqs3bE"
   },
   "outputs": [],
   "source": []
  }
 ],
 "metadata": {
  "colab": {
   "collapsed_sections": [],
   "provenance": [
    {
     "file_id": "1JtQu8PE8x_CUrCp_NUU3OcQ6cB75QrPk",
     "timestamp": 1668355349959
    }
   ]
  },
  "kernelspec": {
   "display_name": "Python 3",
   "name": "python3"
  },
  "language_info": {
   "codemirror_mode": {
    "name": "ipython",
    "version": 3
   },
   "file_extension": ".py",
   "mimetype": "text/x-python",
   "name": "python",
   "nbconvert_exporter": "python",
   "pygments_lexer": "ipython3",
   "version": "3.13.0"
  }
 },
 "nbformat": 4,
 "nbformat_minor": 0
}
