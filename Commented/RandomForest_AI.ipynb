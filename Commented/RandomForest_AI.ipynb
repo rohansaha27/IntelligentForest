{
 "cells": [
  {
   "cell_type": "code",
   "execution_count": null,
   "metadata": {
    "colab": {
     "base_uri": "https://localhost:8080/"
    },
    "executionInfo": {
     "elapsed": 40067,
     "status": "ok",
     "timestamp": 1668615496385,
     "user": {
      "displayName": "Malarvizhi Arulraj",
      "userId": "09678784123587661078"
     },
     "user_tz": 300
    },
    "id": "2VmfopbWxL17",
    "outputId": "8884e21e-7220-487d-9a86-75dc6bdd3115"
   },
   "outputs": [
    {
     "name": "stdout",
     "output_type": "stream",
     "text": [
      "Mounted at /content/gdrive\n",
      "Model Training Accuracy is:  1.0\n",
      "Training Confusion Matrix is:\n",
      "[[1090    0    0    0]\n",
      " [   0   91    0    0]\n",
      " [   0    0  427    0]\n",
      " [   0    0    0   49]]\n",
      "Model Accuracy is:  0.8\n",
      "Confusion Matrix is:\n",
      "[[32  0  1  0]\n",
      " [ 0 34  0  0]\n",
      " [16  0  6  3]\n",
      " [ 0  0  0  8]]\n"
     ]
    }
   ],
   "source": [
    "# Import essential libraries\n",
    "import pandas\n",
    "import io\n",
    "from sklearn import tree\n",
    "from sklearn import metrics\n",
    "from sklearn.ensemble import RandomForestClassifier\n",
    "from sklearn.metrics import confusion_matrix\n",
    "import warnings\n",
    "\n",
    "# Ignore UserWarnings to keep output clean\n",
    "warnings.filterwarnings(action='ignore', category=UserWarning)\n",
    "\n",
    "# Mount Google Drive to access dataset files\n",
    "from google.colab import drive\n",
    "drive.mount('/content/gdrive')\n",
    "\n",
    "# =============================\n",
    "# 1. Load and Prepare Training Data\n",
    "# =============================\n",
    "\n",
    "# Read the training data CSV file\n",
    "df = pandas.read_csv(\"gdrive/MyDrive/Data /BrisbaneWeatherTrainingData.csv\")\n",
    "\n",
    "# Convert categorical alert levels to numerical values for classification\n",
    "# Original meanings:\n",
    "# '-1' = No Alert, 'l' = Low, 'm' = Medium, 'h' = High\n",
    "# Mapping to integers for the model:\n",
    "# '-1' → 0, 'l' → 1, 'm' → 2, 'h' → 3\n",
    "d = {'-1': 0, 'l': 1, 'm': 2, 'h': 3}\n",
    "df['AlertLevel'] = df['AlertLevel'].map(d)\n",
    "\n",
    "# Select relevant meteorological features\n",
    "features = ['MinTemp', 'MaxTemp', 'Rainfall', 'Evaporation', 'Sunshine']\n",
    "X = df[features]         # Features matrix\n",
    "y = df['AlertLevel']     # Labels (target)\n",
    "\n",
    "# =============================\n",
    "# 2. Train Random Forest Classifier\n",
    "# =============================\n",
    "\n",
    "# Initialize and train the Random Forest classifier\n",
    "rForest = RandomForestClassifier()\n",
    "rForest = rForest.fit(X, y)\n",
    "\n",
    "# =============================\n",
    "# 3. Load and Prepare Test Data\n",
    "# =============================\n",
    "\n",
    "# Load the test dataset with selected columns\n",
    "df1 = pandas.read_csv(\n",
    "    \"gdrive/MyDrive/Data /BrisbaneWeatherTestData.csv\", \n",
    "    usecols=['Date','AlertLevel','MinTemp', 'MaxTemp', 'Rainfall', 'Evaporation', 'Sunshine']\n",
    ")\n",
    "\n",
    "# Convert categorical alert levels to numeric format\n",
    "df1['AlertLevel'] = df1['AlertLevel'].map(d)\n",
    "\n",
    "# =============================\n",
    "# 4. Evaluate Model on Training Data\n",
    "# =============================\n",
    "\n",
    "# Re-load training data for evaluation purposes\n",
    "df_training_accuracy = pandas.read_csv(\n",
    "    \"gdrive/MyDrive/Data /BrisbaneWeatherTrainingData.csv\", \n",
    "    usecols=['Date','AlertLevel','MinTemp', 'MaxTemp', 'Rainfall', 'Evaporation', 'Sunshine']\n",
    ")\n",
    "df_training_accuracy['AlertLevel'] = df_training_accuracy['AlertLevel'].map(d)\n",
    "\n",
    "# Initialize lists to store predictions and actual values\n",
    "training_true_y = []\n",
    "training_pred_y = []\n",
    "\n",
    "# Predict labels for each training sample\n",
    "for num in range(len(df_training_accuracy)):\n",
    "   training_true_y.append(df_training_accuracy.iloc[num,1])  # Actual\n",
    "   training_pred_y.append(\n",
    "       rForest.predict([[df_training_accuracy.iloc[num,2], df_training_accuracy.iloc[num,3],\n",
    "                         df_training_accuracy.iloc[num,4], df_training_accuracy.iloc[num,5],\n",
    "                         df_training_accuracy.iloc[num,6]]])\n",
    "   )  # Predicted\n",
    "\n",
    "# Calculate and print training accuracy\n",
    "training_accuracy = metrics.accuracy_score(training_true_y, training_pred_y)\n",
    "print(\"Model Training Accuracy is: \", training_accuracy)\n",
    "\n",
    "# Display confusion matrix for training data\n",
    "train_confusion_matrix = metrics.confusion_matrix(training_true_y, training_pred_y)\n",
    "print(\"Training Confusion Matrix is:\")\n",
    "print(train_confusion_matrix)\n",
    "\n",
    "# =============================\n",
    "# 5. Evaluate Model on Test Data\n",
    "# =============================\n",
    "\n",
    "# Initialize lists for test predictions\n",
    "true_y = []\n",
    "pred_y = []\n",
    "\n",
    "# Predict the first 100 test samples\n",
    "for num in range(0, 100):\n",
    "   true_y.append(df1.iloc[num,1])  # Actual value\n",
    "   pred_y.append(\n",
    "       rForest.predict([[df1.iloc[num,2], df1.iloc[num,3],\n",
    "                         df1.iloc[num,4], df1.iloc[num,5],\n",
    "                         df1.iloc[num,6]]])\n",
    "   )  # Model prediction\n",
    "\n",
    "# Calculate and print test accuracy\n",
    "Accuracy = metrics.accuracy_score(true_y, pred_y)\n",
    "print(\"Model Accuracy is: \", Accuracy)\n",
    "\n",
    "# Display confusion matrix for test predictions\n",
    "confusion_matrix = metrics.confusion_matrix(true_y, pred_y)\n",
    "print(\"Confusion Matrix is:\")\n",
    "print(confusion_matrix)"
   ]
  },
  {
   "cell_type": "code",
   "execution_count": 1,
   "metadata": {
    "colab": {
     "base_uri": "https://localhost:8080/"
    },
    "executionInfo": {
     "elapsed": 21325,
     "status": "ok",
     "timestamp": 1673447501883,
     "user": {
      "displayName": "Chinmay Rawat",
      "userId": "04988691061393692744"
     },
     "user_tz": -330
    },
    "id": "EFuGrW95PgPg",
    "outputId": "6897ffed-f0a8-4d0b-f2e9-60a8eb12e334"
   },
   "outputs": [
    {
     "name": "stdout",
     "output_type": "stream",
     "text": [
      "Mounted at /content/drive\n"
     ]
    }
   ],
   "source": [
    "from google.colab import drive\n",
    "drive.mount('/content/drive')"
   ]
  },
  {
   "cell_type": "code",
   "execution_count": null,
   "metadata": {
    "id": "pZKgPlR0uzqm"
   },
   "outputs": [],
   "source": [
    "importances = rForest.feature_importances_"
   ]
  },
  {
   "cell_type": "code",
   "execution_count": null,
   "metadata": {
    "colab": {
     "base_uri": "https://localhost:8080/"
    },
    "executionInfo": {
     "elapsed": 215,
     "status": "ok",
     "timestamp": 1668439919671,
     "user": {
      "displayName": "Malarvizhi Arulraj",
      "userId": "09678784123587661078"
     },
     "user_tz": 300
    },
    "id": "G5T0_X9KxLnl",
    "outputId": "f75f466d-edf5-447f-c05e-94bef154ac86"
   },
   "outputs": [
    {
     "data": {
      "text/plain": [
       "array([0.25929333, 0.24034309, 0.07808078, 0.19663964, 0.22564316])"
      ]
     },
     "execution_count": 5,
     "metadata": {},
     "output_type": "execute_result"
    }
   ],
   "source": [
    "importances"
   ]
  },
  {
   "cell_type": "code",
   "execution_count": null,
   "metadata": {
    "id": "XNstQMTpxMks"
   },
   "outputs": [],
   "source": []
  }
 ],
 "metadata": {
  "colab": {
   "provenance": []
  },
  "kernelspec": {
   "display_name": "Python 3",
   "name": "python3"
  },
  "language_info": {
   "name": "python"
  }
 },
 "nbformat": 4,
 "nbformat_minor": 0
}
