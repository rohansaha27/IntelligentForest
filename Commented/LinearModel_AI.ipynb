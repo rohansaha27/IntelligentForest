{
 "cells": [
  {
   "cell_type": "code",
   "execution_count": null,
   "metadata": {
    "colab": {
     "base_uri": "https://localhost:8080/"
    },
    "executionInfo": {
     "elapsed": 28501,
     "status": "ok",
     "timestamp": 1668439307268,
     "user": {
      "displayName": "Soumik Piratla",
      "userId": "05414017972696465459"
     },
     "user_tz": -330
    },
    "id": "HWoMLautwBvj",
    "outputId": "6ab31135-7650-4896-896d-084eece6b869"
   },
   "outputs": [
    {
     "name": "stdout",
     "output_type": "stream",
     "text": [
      "Mounted at /content/gdrive\n",
      "Model Accuracy is:  0.39\n",
      "Confusion Matrix is: \n",
      "[[33  0  0  0]\n",
      " [34  0  0  0]\n",
      " [18  0  6  1]\n",
      " [ 5  0  3  0]]\n"
     ]
    }
   ],
   "source": [
    "# Import necessary libraries\n",
    "import pandas\n",
    "import io\n",
    "from sklearn import tree\n",
    "from sklearn import linear_model\n",
    "import warnings\n",
    "from sklearn import metrics\n",
    "from sklearn.metrics import confusion_matrix \n",
    "\n",
    "# Suppress warning messages for cleaner output\n",
    "warnings.filterwarnings(action='ignore', category=UserWarning)\n",
    "\n",
    "# Mount Google Drive to access dataset files\n",
    "from google.colab import drive\n",
    "drive.mount('/content/gdrive')\n",
    "\n",
    "# =============================\n",
    "# 1. Load and Prepare Training Data\n",
    "# =============================\n",
    "\n",
    "# Read the training dataset from Google Drive\n",
    "df = pandas.read_csv(\"gdrive/MyDrive/Data /BrisbaneWeatherTrainingData.csv\")\n",
    "\n",
    "# Map the alert levels from string labels to numeric classes\n",
    "# These are the original alert levels:\n",
    "# '-1' = No Alert, 'l' = Low, 'm' = Medium, 'h' = High\n",
    "# These are mapped to:\n",
    "# '-1' → 0, 'l' → 1, 'm' → 2, 'h' → 3\n",
    "d = {'-1': 0, 'l': 1, 'm': 2, 'h': 3}\n",
    "df['AlertLevel'] = df['AlertLevel'].map(d)\n",
    "\n",
    "# Define the input features\n",
    "features = ['MinTemp', 'MaxTemp', 'Rainfall', 'Evaporation', 'Sunshine']\n",
    "X = df[features]         # Features matrix\n",
    "y = df['AlertLevel']     # Target labels\n",
    "\n",
    "# =============================\n",
    "# 2. Train Logistic Regression Model\n",
    "# =============================\n",
    "\n",
    "# Create and train the logistic regression model\n",
    "logr = linear_model.LogisticRegression()\n",
    "logr = logr.fit(X, y)\n",
    "\n",
    "# =============================\n",
    "# 3. Load and Prepare Test Data\n",
    "# =============================\n",
    "\n",
    "# Read the test dataset\n",
    "df1 = pandas.read_csv(\n",
    "    \"gdrive/MyDrive/Data /BrisbaneWeatherTestData.csv\", \n",
    "    usecols=['Date','AlertLevel','MinTemp', 'MaxTemp', 'Rainfall', 'Evaporation', 'Sunshine']\n",
    ")\n",
    "\n",
    "# Map the alert levels in the test set using the same dictionary\n",
    "df1['AlertLevel'] = df1['AlertLevel'].map(d)\n",
    "\n",
    "# =============================\n",
    "# 4. Make Predictions on Test Data\n",
    "# =============================\n",
    "\n",
    "true_y = []  # Actual values from the test set\n",
    "pred_y = []  # Model's predicted values\n",
    "\n",
    "# Loop through first 100 rows of the test set to make predictions\n",
    "for num in range(0, 100):\n",
    "   true_y.append(df1.iloc[num,1])  # actual class\n",
    "   pred_y.append(logr.predict([[df1.iloc[num,2], df1.iloc[num,3], \n",
    "                                df1.iloc[num,4], df1.iloc[num,5], \n",
    "                                df1.iloc[num,6]]]))  # predicted class\n",
    "\n",
    "# =============================\n",
    "# 5. Evaluate Model Performance\n",
    "# =============================\n",
    "\n",
    "# Calculate accuracy score\n",
    "Accuracy = metrics.accuracy_score(true_y, pred_y)\n",
    "print(\"Model Accuracy is: \", Accuracy)\n",
    "\n",
    "# Display the confusion matrix\n",
    "confusion_matrix = metrics.confusion_matrix(true_y, pred_y)\n",
    "print(\"Confusion Matrix is: \")\n",
    "print(confusion_matrix)"
   ]
  }
 ],
 "metadata": {
  "colab": {
   "provenance": []
  },
  "kernelspec": {
   "display_name": "Python 3",
   "name": "python3"
  },
  "language_info": {
   "name": "python"
  }
 },
 "nbformat": 4,
 "nbformat_minor": 0
}
